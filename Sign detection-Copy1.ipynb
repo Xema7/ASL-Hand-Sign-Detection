{
 "cells": [
  {
   "cell_type": "code",
   "execution_count": 1,
   "id": "58772813-a95c-487d-9bcf-daa5277e6b75",
   "metadata": {},
   "outputs": [],
   "source": [
    "import tensorflow as tf\n",
    "from tensorflow.keras.layers import Conv2D, MaxPooling2D, Flatten, Dense, Dropout, Rescaling\n",
    "from tensorflow.keras.models import Sequential\n",
    "from tensorflow.keras.utils import image_dataset_from_directory\n",
    "import matplotlib.pyplot as plt\n",
    "import numpy as np\n",
    "import os"
   ]
  },
  {
   "cell_type": "code",
   "execution_count": 2,
   "id": "864461b4-e318-410d-87ad-096fbf81a231",
   "metadata": {},
   "outputs": [],
   "source": [
    "# --- 1. Configuration and Data Loading ---\n",
    "\n",
    "# Define main data directories\n",
    "DATA_DIR = 'ASL'\n",
    "TRAIN_DIR = os.path.join(DATA_DIR, 'asl_train')\n",
    "TEST_DIR = os.path.join(DATA_DIR, 'asl_test')"
   ]
  },
  {
   "cell_type": "code",
   "execution_count": 3,
   "id": "40126c72-191f-4575-9629-aa1a0ee72ef6",
   "metadata": {},
   "outputs": [
    {
     "name": "stdout",
     "output_type": "stream",
     "text": [
      "Found 223074 files belonging to 29 classes.\n",
      "Using 178460 files for training.\n",
      "Found 223074 files belonging to 29 classes.\n",
      "Using 44614 files for validation.\n"
     ]
    }
   ],
   "source": [
    "# Model and training parameters\n",
    "IMG_SIZE = (64, 64)\n",
    "BATCH_SIZE = 32\n",
    "EPOCHS = 5\n",
    "VALIDATION_SPLIT = 0.2 # Use 20% of training data for validation\n",
    "\n",
    "# Load the training dataset from the directory\n",
    "# This utility automatically infers the class labels from the subdirectory names.\n",
    "train_dataset = image_dataset_from_directory(\n",
    "    TRAIN_DIR,\n",
    "    labels='inferred',\n",
    "    label_mode='int', # Use integers for labels (for sparse_categorical_crossentropy)\n",
    "    image_size=IMG_SIZE,\n",
    "    interpolation='nearest',\n",
    "    batch_size=BATCH_SIZE,\n",
    "    shuffle=True,\n",
    "    seed=42,\n",
    "    validation_split=VALIDATION_SPLIT,\n",
    "    subset='training'\n",
    ")\n",
    "\n",
    "# Load the validation dataset from the same directory\n",
    "validation_dataset = image_dataset_from_directory(\n",
    "    TRAIN_DIR,\n",
    "    labels='inferred',\n",
    "    label_mode='int',\n",
    "    image_size=IMG_SIZE,\n",
    "    interpolation='nearest',\n",
    "    batch_size=BATCH_SIZE,\n",
    "    shuffle=True,\n",
    "    seed=42,\n",
    "    validation_split=VALIDATION_SPLIT,\n",
    "    subset='validation'\n",
    ")"
   ]
  },
  {
   "cell_type": "code",
   "execution_count": 4,
   "id": "4d216f45-7ff3-4fa0-8f21-09d8cd947d53",
   "metadata": {},
   "outputs": [
    {
     "name": "stdout",
     "output_type": "stream",
     "text": [
      "Found 29 classes: ['A', 'B', 'C', 'D', 'E', 'F', 'G', 'H', 'I', 'J', 'K', 'L', 'M', 'N', 'O', 'P', 'Q', 'R', 'S', 'T', 'U', 'V', 'W', 'X', 'Y', 'Z', 'del', 'nothing', 'space']\n"
     ]
    }
   ],
   "source": [
    "# Get class names from the dataset\n",
    "# These will be ['A', 'B', 'C', ..., 'Z', 'del', 'nothing', 'space']\n",
    "class_names = train_dataset.class_names\n",
    "num_classes = len(class_names)\n",
    "print(f\"Found {num_classes} classes: {class_names}\")"
   ]
  },
  {
   "cell_type": "code",
   "execution_count": 5,
   "id": "e04479a6-3d95-4814-8f95-96146af38107",
   "metadata": {
    "scrolled": true
   },
   "outputs": [
    {
     "name": "stderr",
     "output_type": "stream",
     "text": [
      "D:\\CLG\\python\\Lib\\site-packages\\keras\\src\\layers\\preprocessing\\tf_data_layer.py:19: UserWarning: Do not pass an `input_shape`/`input_dim` argument to a layer. When using Sequential models, prefer using an `Input(shape)` object as the first layer in the model instead.\n",
      "  super().__init__(**kwargs)\n"
     ]
    }
   ],
   "source": [
    "# --- 2. Build the CNN Model ---\n",
    "\n",
    "model = Sequential([\n",
    "    # Input layer: Rescale pixel values from [0, 255] to [0, 1]\n",
    "    Rescaling(1./255, input_shape=(IMG_SIZE[0], IMG_SIZE[1], 3)),\n",
    "\n",
    "    # First Convolutional Block\n",
    "    Conv2D(32, (3, 3), activation='relu', padding='same'),\n",
    "    MaxPooling2D((2, 2)),\n",
    "\n",
    "    # Second Convolutional Block\n",
    "    Conv2D(64, (3, 3), activation='relu', padding='same'),\n",
    "    MaxPooling2D((2, 2)),\n",
    "\n",
    "    # Third Convolutional Block\n",
    "    Conv2D(128, (3, 3), activation='relu', padding='same'),\n",
    "    MaxPooling2D((2, 2)),\n",
    "\n",
    "    # Flatten the feature maps to a 1D vector\n",
    "    Flatten(),\n",
    "\n",
    "    # Dense layers for classification\n",
    "    Dense(256, activation='relu'),\n",
    "    Dropout(0.5), # Dropout for regularization to prevent overfitting\n",
    "    Dense(num_classes, activation='softmax') # Output layer with softmax for multi-class classification\n",
    "])"
   ]
  },
  {
   "cell_type": "code",
   "execution_count": 6,
   "id": "2b03faff-3cb7-466a-b001-6dac676ccb9e",
   "metadata": {
    "scrolled": true
   },
   "outputs": [
    {
     "data": {
      "text/html": [
       "<pre style=\"white-space:pre;overflow-x:auto;line-height:normal;font-family:Menlo,'DejaVu Sans Mono',consolas,'Courier New',monospace\"><span style=\"font-weight: bold\">Model: \"sequential\"</span>\n",
       "</pre>\n"
      ],
      "text/plain": [
       "\u001b[1mModel: \"sequential\"\u001b[0m\n"
      ]
     },
     "metadata": {},
     "output_type": "display_data"
    },
    {
     "data": {
      "text/html": [
       "<pre style=\"white-space:pre;overflow-x:auto;line-height:normal;font-family:Menlo,'DejaVu Sans Mono',consolas,'Courier New',monospace\">┏━━━━━━━━━━━━━━━━━━━━━━━━━━━━━━━━━━━━━━┳━━━━━━━━━━━━━━━━━━━━━━━━━━━━━┳━━━━━━━━━━━━━━━━━┓\n",
       "┃<span style=\"font-weight: bold\"> Layer (type)                         </span>┃<span style=\"font-weight: bold\"> Output Shape                </span>┃<span style=\"font-weight: bold\">         Param # </span>┃\n",
       "┡━━━━━━━━━━━━━━━━━━━━━━━━━━━━━━━━━━━━━━╇━━━━━━━━━━━━━━━━━━━━━━━━━━━━━╇━━━━━━━━━━━━━━━━━┩\n",
       "│ rescaling (<span style=\"color: #0087ff; text-decoration-color: #0087ff\">Rescaling</span>)                │ (<span style=\"color: #00d7ff; text-decoration-color: #00d7ff\">None</span>, <span style=\"color: #00af00; text-decoration-color: #00af00\">64</span>, <span style=\"color: #00af00; text-decoration-color: #00af00\">64</span>, <span style=\"color: #00af00; text-decoration-color: #00af00\">3</span>)           │               <span style=\"color: #00af00; text-decoration-color: #00af00\">0</span> │\n",
       "├──────────────────────────────────────┼─────────────────────────────┼─────────────────┤\n",
       "│ conv2d (<span style=\"color: #0087ff; text-decoration-color: #0087ff\">Conv2D</span>)                      │ (<span style=\"color: #00d7ff; text-decoration-color: #00d7ff\">None</span>, <span style=\"color: #00af00; text-decoration-color: #00af00\">64</span>, <span style=\"color: #00af00; text-decoration-color: #00af00\">64</span>, <span style=\"color: #00af00; text-decoration-color: #00af00\">32</span>)          │             <span style=\"color: #00af00; text-decoration-color: #00af00\">896</span> │\n",
       "├──────────────────────────────────────┼─────────────────────────────┼─────────────────┤\n",
       "│ max_pooling2d (<span style=\"color: #0087ff; text-decoration-color: #0087ff\">MaxPooling2D</span>)         │ (<span style=\"color: #00d7ff; text-decoration-color: #00d7ff\">None</span>, <span style=\"color: #00af00; text-decoration-color: #00af00\">32</span>, <span style=\"color: #00af00; text-decoration-color: #00af00\">32</span>, <span style=\"color: #00af00; text-decoration-color: #00af00\">32</span>)          │               <span style=\"color: #00af00; text-decoration-color: #00af00\">0</span> │\n",
       "├──────────────────────────────────────┼─────────────────────────────┼─────────────────┤\n",
       "│ conv2d_1 (<span style=\"color: #0087ff; text-decoration-color: #0087ff\">Conv2D</span>)                    │ (<span style=\"color: #00d7ff; text-decoration-color: #00d7ff\">None</span>, <span style=\"color: #00af00; text-decoration-color: #00af00\">32</span>, <span style=\"color: #00af00; text-decoration-color: #00af00\">32</span>, <span style=\"color: #00af00; text-decoration-color: #00af00\">64</span>)          │          <span style=\"color: #00af00; text-decoration-color: #00af00\">18,496</span> │\n",
       "├──────────────────────────────────────┼─────────────────────────────┼─────────────────┤\n",
       "│ max_pooling2d_1 (<span style=\"color: #0087ff; text-decoration-color: #0087ff\">MaxPooling2D</span>)       │ (<span style=\"color: #00d7ff; text-decoration-color: #00d7ff\">None</span>, <span style=\"color: #00af00; text-decoration-color: #00af00\">16</span>, <span style=\"color: #00af00; text-decoration-color: #00af00\">16</span>, <span style=\"color: #00af00; text-decoration-color: #00af00\">64</span>)          │               <span style=\"color: #00af00; text-decoration-color: #00af00\">0</span> │\n",
       "├──────────────────────────────────────┼─────────────────────────────┼─────────────────┤\n",
       "│ conv2d_2 (<span style=\"color: #0087ff; text-decoration-color: #0087ff\">Conv2D</span>)                    │ (<span style=\"color: #00d7ff; text-decoration-color: #00d7ff\">None</span>, <span style=\"color: #00af00; text-decoration-color: #00af00\">16</span>, <span style=\"color: #00af00; text-decoration-color: #00af00\">16</span>, <span style=\"color: #00af00; text-decoration-color: #00af00\">128</span>)         │          <span style=\"color: #00af00; text-decoration-color: #00af00\">73,856</span> │\n",
       "├──────────────────────────────────────┼─────────────────────────────┼─────────────────┤\n",
       "│ max_pooling2d_2 (<span style=\"color: #0087ff; text-decoration-color: #0087ff\">MaxPooling2D</span>)       │ (<span style=\"color: #00d7ff; text-decoration-color: #00d7ff\">None</span>, <span style=\"color: #00af00; text-decoration-color: #00af00\">8</span>, <span style=\"color: #00af00; text-decoration-color: #00af00\">8</span>, <span style=\"color: #00af00; text-decoration-color: #00af00\">128</span>)           │               <span style=\"color: #00af00; text-decoration-color: #00af00\">0</span> │\n",
       "├──────────────────────────────────────┼─────────────────────────────┼─────────────────┤\n",
       "│ flatten (<span style=\"color: #0087ff; text-decoration-color: #0087ff\">Flatten</span>)                    │ (<span style=\"color: #00d7ff; text-decoration-color: #00d7ff\">None</span>, <span style=\"color: #00af00; text-decoration-color: #00af00\">8192</span>)                │               <span style=\"color: #00af00; text-decoration-color: #00af00\">0</span> │\n",
       "├──────────────────────────────────────┼─────────────────────────────┼─────────────────┤\n",
       "│ dense (<span style=\"color: #0087ff; text-decoration-color: #0087ff\">Dense</span>)                        │ (<span style=\"color: #00d7ff; text-decoration-color: #00d7ff\">None</span>, <span style=\"color: #00af00; text-decoration-color: #00af00\">256</span>)                 │       <span style=\"color: #00af00; text-decoration-color: #00af00\">2,097,408</span> │\n",
       "├──────────────────────────────────────┼─────────────────────────────┼─────────────────┤\n",
       "│ dropout (<span style=\"color: #0087ff; text-decoration-color: #0087ff\">Dropout</span>)                    │ (<span style=\"color: #00d7ff; text-decoration-color: #00d7ff\">None</span>, <span style=\"color: #00af00; text-decoration-color: #00af00\">256</span>)                 │               <span style=\"color: #00af00; text-decoration-color: #00af00\">0</span> │\n",
       "├──────────────────────────────────────┼─────────────────────────────┼─────────────────┤\n",
       "│ dense_1 (<span style=\"color: #0087ff; text-decoration-color: #0087ff\">Dense</span>)                      │ (<span style=\"color: #00d7ff; text-decoration-color: #00d7ff\">None</span>, <span style=\"color: #00af00; text-decoration-color: #00af00\">29</span>)                  │           <span style=\"color: #00af00; text-decoration-color: #00af00\">7,453</span> │\n",
       "└──────────────────────────────────────┴─────────────────────────────┴─────────────────┘\n",
       "</pre>\n"
      ],
      "text/plain": [
       "┏━━━━━━━━━━━━━━━━━━━━━━━━━━━━━━━━━━━━━━┳━━━━━━━━━━━━━━━━━━━━━━━━━━━━━┳━━━━━━━━━━━━━━━━━┓\n",
       "┃\u001b[1m \u001b[0m\u001b[1mLayer (type)                        \u001b[0m\u001b[1m \u001b[0m┃\u001b[1m \u001b[0m\u001b[1mOutput Shape               \u001b[0m\u001b[1m \u001b[0m┃\u001b[1m \u001b[0m\u001b[1m        Param #\u001b[0m\u001b[1m \u001b[0m┃\n",
       "┡━━━━━━━━━━━━━━━━━━━━━━━━━━━━━━━━━━━━━━╇━━━━━━━━━━━━━━━━━━━━━━━━━━━━━╇━━━━━━━━━━━━━━━━━┩\n",
       "│ rescaling (\u001b[38;5;33mRescaling\u001b[0m)                │ (\u001b[38;5;45mNone\u001b[0m, \u001b[38;5;34m64\u001b[0m, \u001b[38;5;34m64\u001b[0m, \u001b[38;5;34m3\u001b[0m)           │               \u001b[38;5;34m0\u001b[0m │\n",
       "├──────────────────────────────────────┼─────────────────────────────┼─────────────────┤\n",
       "│ conv2d (\u001b[38;5;33mConv2D\u001b[0m)                      │ (\u001b[38;5;45mNone\u001b[0m, \u001b[38;5;34m64\u001b[0m, \u001b[38;5;34m64\u001b[0m, \u001b[38;5;34m32\u001b[0m)          │             \u001b[38;5;34m896\u001b[0m │\n",
       "├──────────────────────────────────────┼─────────────────────────────┼─────────────────┤\n",
       "│ max_pooling2d (\u001b[38;5;33mMaxPooling2D\u001b[0m)         │ (\u001b[38;5;45mNone\u001b[0m, \u001b[38;5;34m32\u001b[0m, \u001b[38;5;34m32\u001b[0m, \u001b[38;5;34m32\u001b[0m)          │               \u001b[38;5;34m0\u001b[0m │\n",
       "├──────────────────────────────────────┼─────────────────────────────┼─────────────────┤\n",
       "│ conv2d_1 (\u001b[38;5;33mConv2D\u001b[0m)                    │ (\u001b[38;5;45mNone\u001b[0m, \u001b[38;5;34m32\u001b[0m, \u001b[38;5;34m32\u001b[0m, \u001b[38;5;34m64\u001b[0m)          │          \u001b[38;5;34m18,496\u001b[0m │\n",
       "├──────────────────────────────────────┼─────────────────────────────┼─────────────────┤\n",
       "│ max_pooling2d_1 (\u001b[38;5;33mMaxPooling2D\u001b[0m)       │ (\u001b[38;5;45mNone\u001b[0m, \u001b[38;5;34m16\u001b[0m, \u001b[38;5;34m16\u001b[0m, \u001b[38;5;34m64\u001b[0m)          │               \u001b[38;5;34m0\u001b[0m │\n",
       "├──────────────────────────────────────┼─────────────────────────────┼─────────────────┤\n",
       "│ conv2d_2 (\u001b[38;5;33mConv2D\u001b[0m)                    │ (\u001b[38;5;45mNone\u001b[0m, \u001b[38;5;34m16\u001b[0m, \u001b[38;5;34m16\u001b[0m, \u001b[38;5;34m128\u001b[0m)         │          \u001b[38;5;34m73,856\u001b[0m │\n",
       "├──────────────────────────────────────┼─────────────────────────────┼─────────────────┤\n",
       "│ max_pooling2d_2 (\u001b[38;5;33mMaxPooling2D\u001b[0m)       │ (\u001b[38;5;45mNone\u001b[0m, \u001b[38;5;34m8\u001b[0m, \u001b[38;5;34m8\u001b[0m, \u001b[38;5;34m128\u001b[0m)           │               \u001b[38;5;34m0\u001b[0m │\n",
       "├──────────────────────────────────────┼─────────────────────────────┼─────────────────┤\n",
       "│ flatten (\u001b[38;5;33mFlatten\u001b[0m)                    │ (\u001b[38;5;45mNone\u001b[0m, \u001b[38;5;34m8192\u001b[0m)                │               \u001b[38;5;34m0\u001b[0m │\n",
       "├──────────────────────────────────────┼─────────────────────────────┼─────────────────┤\n",
       "│ dense (\u001b[38;5;33mDense\u001b[0m)                        │ (\u001b[38;5;45mNone\u001b[0m, \u001b[38;5;34m256\u001b[0m)                 │       \u001b[38;5;34m2,097,408\u001b[0m │\n",
       "├──────────────────────────────────────┼─────────────────────────────┼─────────────────┤\n",
       "│ dropout (\u001b[38;5;33mDropout\u001b[0m)                    │ (\u001b[38;5;45mNone\u001b[0m, \u001b[38;5;34m256\u001b[0m)                 │               \u001b[38;5;34m0\u001b[0m │\n",
       "├──────────────────────────────────────┼─────────────────────────────┼─────────────────┤\n",
       "│ dense_1 (\u001b[38;5;33mDense\u001b[0m)                      │ (\u001b[38;5;45mNone\u001b[0m, \u001b[38;5;34m29\u001b[0m)                  │           \u001b[38;5;34m7,453\u001b[0m │\n",
       "└──────────────────────────────────────┴─────────────────────────────┴─────────────────┘\n"
      ]
     },
     "metadata": {},
     "output_type": "display_data"
    },
    {
     "data": {
      "text/html": [
       "<pre style=\"white-space:pre;overflow-x:auto;line-height:normal;font-family:Menlo,'DejaVu Sans Mono',consolas,'Courier New',monospace\"><span style=\"font-weight: bold\"> Total params: </span><span style=\"color: #00af00; text-decoration-color: #00af00\">2,198,109</span> (8.39 MB)\n",
       "</pre>\n"
      ],
      "text/plain": [
       "\u001b[1m Total params: \u001b[0m\u001b[38;5;34m2,198,109\u001b[0m (8.39 MB)\n"
      ]
     },
     "metadata": {},
     "output_type": "display_data"
    },
    {
     "data": {
      "text/html": [
       "<pre style=\"white-space:pre;overflow-x:auto;line-height:normal;font-family:Menlo,'DejaVu Sans Mono',consolas,'Courier New',monospace\"><span style=\"font-weight: bold\"> Trainable params: </span><span style=\"color: #00af00; text-decoration-color: #00af00\">2,198,109</span> (8.39 MB)\n",
       "</pre>\n"
      ],
      "text/plain": [
       "\u001b[1m Trainable params: \u001b[0m\u001b[38;5;34m2,198,109\u001b[0m (8.39 MB)\n"
      ]
     },
     "metadata": {},
     "output_type": "display_data"
    },
    {
     "data": {
      "text/html": [
       "<pre style=\"white-space:pre;overflow-x:auto;line-height:normal;font-family:Menlo,'DejaVu Sans Mono',consolas,'Courier New',monospace\"><span style=\"font-weight: bold\"> Non-trainable params: </span><span style=\"color: #00af00; text-decoration-color: #00af00\">0</span> (0.00 B)\n",
       "</pre>\n"
      ],
      "text/plain": [
       "\u001b[1m Non-trainable params: \u001b[0m\u001b[38;5;34m0\u001b[0m (0.00 B)\n"
      ]
     },
     "metadata": {},
     "output_type": "display_data"
    }
   ],
   "source": [
    "# Compile the model\n",
    "model.compile(\n",
    "    optimizer='adam',\n",
    "    loss='sparse_categorical_crossentropy',\n",
    "    metrics=['accuracy']\n",
    ")\n",
    "\n",
    "# Print a summary of the model architecture\n",
    "model.summary()"
   ]
  },
  {
   "cell_type": "code",
   "execution_count": 7,
   "id": "93af89e7-1e88-42da-b157-3c0a40507a82",
   "metadata": {},
   "outputs": [
    {
     "name": "stdout",
     "output_type": "stream",
     "text": [
      "\n",
      "--- Starting Model Training ---\n",
      "Epoch 1/5\n",
      "\u001b[1m5577/5577\u001b[0m \u001b[32m━━━━━━━━━━━━━━━━━━━━\u001b[0m\u001b[37m\u001b[0m \u001b[1m814s\u001b[0m 145ms/step - accuracy: 0.7350 - loss: 0.8517 - val_accuracy: 0.9568 - val_loss: 0.1590\n",
      "Epoch 2/5\n",
      "\u001b[1m5577/5577\u001b[0m \u001b[32m━━━━━━━━━━━━━━━━━━━━\u001b[0m\u001b[37m\u001b[0m \u001b[1m806s\u001b[0m 145ms/step - accuracy: 0.9182 - loss: 0.2517 - val_accuracy: 0.9781 - val_loss: 0.0748\n",
      "Epoch 3/5\n",
      "\u001b[1m5577/5577\u001b[0m \u001b[32m━━━━━━━━━━━━━━━━━━━━\u001b[0m\u001b[37m\u001b[0m \u001b[1m896s\u001b[0m 151ms/step - accuracy: 0.9441 - loss: 0.1714 - val_accuracy: 0.9852 - val_loss: 0.0505\n",
      "Epoch 4/5\n",
      "\u001b[1m5577/5577\u001b[0m \u001b[32m━━━━━━━━━━━━━━━━━━━━\u001b[0m\u001b[37m\u001b[0m \u001b[1m852s\u001b[0m 153ms/step - accuracy: 0.9568 - loss: 0.1340 - val_accuracy: 0.9887 - val_loss: 0.0398\n",
      "Epoch 5/5\n",
      "\u001b[1m5577/5577\u001b[0m \u001b[32m━━━━━━━━━━━━━━━━━━━━\u001b[0m\u001b[37m\u001b[0m \u001b[1m600s\u001b[0m 108ms/step - accuracy: 0.9643 - loss: 0.1101 - val_accuracy: 0.9889 - val_loss: 0.0368\n",
      "--- Model Training Finished ---\n",
      "\n"
     ]
    }
   ],
   "source": [
    "# --- 3. Train the Model ---\n",
    "\n",
    "print(\"\\n--- Starting Model Training ---\")\n",
    "history = model.fit(\n",
    "    train_dataset,\n",
    "    validation_data=validation_dataset,\n",
    "    epochs=EPOCHS\n",
    ")\n",
    "print(\"--- Model Training Finished ---\\n\")\n"
   ]
  },
  {
   "cell_type": "code",
   "execution_count": 8,
   "id": "437be8d2-af33-4162-a48b-1440ff7e41cf",
   "metadata": {},
   "outputs": [
    {
     "data": {
      "image/png": "[encoded data removed]",
      "text/plain": [
       "<Figure size 1200x500 with 2 Axes>"
      ]
     },
     "metadata": {},
     "output_type": "display_data"
    }
   ],
   "source": [
    "\n",
    "\n",
    "# --- 4. Visualize Training Results ---\n",
    "\n",
    "acc = history.history['accuracy']\n",
    "val_acc = history.history['val_accuracy']\n",
    "loss = history.history['loss']\n",
    "val_loss = history.history['val_loss']\n",
    "\n",
    "epochs_range = range(EPOCHS)\n",
    "\n",
    "plt.figure(figsize=(12, 5))\n",
    "plt.subplot(1, 2, 1)\n",
    "plt.plot(epochs_range, acc, label='Training Accuracy')\n",
    "plt.plot(epochs_range, val_acc, label='Validation Accuracy')\n",
    "plt.legend(loc='lower right')\n",
    "plt.title('Training and Validation Accuracy')\n",
    "plt.xlabel('Epochs')\n",
    "plt.ylabel('Accuracy')\n",
    "\n",
    "\n",
    "plt.subplot(1, 2, 2)\n",
    "plt.plot(epochs_range, loss, label='Training Loss')\n",
    "plt.plot(epochs_range, val_loss, label='Validation Loss')\n",
    "plt.legend(loc='upper right')\n",
    "plt.title('Training and Validation Loss')\n",
    "plt.xlabel('Epochs')\n",
    "plt.ylabel('Loss')\n",
    "\n",
    "# Save the plot\n",
    "#plt.savefig('training_history.png')\n",
    "#print(\"Saved training history plot to 'training_history.png'\")\n",
    "plt.show()\n"
   ]
  },
  {
   "cell_type": "code",
   "execution_count": 15,
   "id": "2646902b-ce33-4e1d-9200-9170fa74fce6",
   "metadata": {},
   "outputs": [
    {
     "name": "stdout",
     "output_type": "stream",
     "text": [
      "\n",
      "--- Evaluating on Test Set ---\n",
      "Warning: Skipping image 'A_test.jpg' with unknown label 'a'\n",
      "Warning: Skipping image 'B_test.jpg' with unknown label 'b'\n",
      "Warning: Skipping image 'C_test.jpg' with unknown label 'c'\n",
      "Warning: Skipping image 'D_test.jpg' with unknown label 'd'\n",
      "Warning: Skipping image 'E_test.jpg' with unknown label 'e'\n",
      "Warning: Skipping image 'F_test.jpg' with unknown label 'f'\n",
      "Warning: Skipping image 'G_test.jpg' with unknown label 'g'\n",
      "Warning: Skipping image 'H_test.jpg' with unknown label 'h'\n",
      "Warning: Skipping image 'I_test.jpg' with unknown label 'i'\n",
      "Warning: Skipping image 'J_test.jpg' with unknown label 'j'\n",
      "Warning: Skipping image 'K_test.jpg' with unknown label 'k'\n",
      "Warning: Skipping image 'L_test.jpg' with unknown label 'l'\n",
      "Warning: Skipping image 'M_test.jpg' with unknown label 'm'\n",
      "Warning: Skipping image 'N_test.jpg' with unknown label 'n'\n",
      "Warning: Skipping image 'O_test.jpg' with unknown label 'o'\n",
      "Warning: Skipping image 'P_test.jpg' with unknown label 'p'\n",
      "Warning: Skipping image 'Q_test.jpg' with unknown label 'q'\n",
      "Warning: Skipping image 'R_test.jpg' with unknown label 'r'\n",
      "Warning: Skipping image 'S_test.jpg' with unknown label 's'\n",
      "Warning: Skipping image 'T_test.jpg' with unknown label 't'\n",
      "Warning: Skipping image 'U_test.jpg' with unknown label 'u'\n",
      "Warning: Skipping image 'V_test.jpg' with unknown label 'v'\n",
      "Warning: Skipping image 'W_test.jpg' with unknown label 'w'\n",
      "Warning: Skipping image 'X_test.jpg' with unknown label 'x'\n",
      "Warning: Skipping image 'Y_test.jpg' with unknown label 'y'\n",
      "Warning: Skipping image 'Z_test.jpg' with unknown label 'z'\n",
      "Test Accuracy: 100.00%\n",
      "Correctly predicted 2 out of 2 test images.\n",
      "\n",
      "--- Classification Report ---\n"
     ]
    },
    {
     "ename": "NameError",
     "evalue": "name 'y_true' is not defined",
     "output_type": "error",
     "traceback": [
      "\u001b[31m---------------------------------------------------------------------------\u001b[39m",
      "\u001b[31mNameError\u001b[39m                                 Traceback (most recent call last)",
      "\u001b[36mCell\u001b[39m\u001b[36m \u001b[39m\u001b[32mIn[15]\u001b[39m\u001b[32m, line 61\u001b[39m\n\u001b[32m     59\u001b[39m \u001b[38;5;28mprint\u001b[39m(\u001b[33m\"\u001b[39m\u001b[38;5;130;01m\\n\u001b[39;00m\u001b[33m--- Classification Report ---\u001b[39m\u001b[33m\"\u001b[39m)\n\u001b[32m     60\u001b[39m \u001b[38;5;66;03m# Use target_names to map integer labels back to string names\u001b[39;00m\n\u001b[32m---> \u001b[39m\u001b[32m61\u001b[39m \u001b[38;5;28mprint\u001b[39m(classification_report(\u001b[43my_true\u001b[49m, y_pred, target_names=class_names))\n\u001b[32m     63\u001b[39m \u001b[38;5;66;03m# 2. Confusion Matrix Heatmap\u001b[39;00m\n\u001b[32m     64\u001b[39m \u001b[38;5;28mprint\u001b[39m(\u001b[33m\"\u001b[39m\u001b[38;5;130;01m\\n\u001b[39;00m\u001b[33m--- Generating Confusion Matrix Heatmap ---\u001b[39m\u001b[33m\"\u001b[39m)\n",
      "\u001b[31mNameError\u001b[39m: name 'y_true' is not defined"
     ]
    }
   ],
   "source": [
    "# --- 5. Evaluate the Model on the Test Set ---\n",
    "# The test folder has random images. We will iterate through them,\n",
    "# predict each one, and calculate the overall accuracy.\n",
    "# We assume the filename contains the true label (e.g., 'a_test.jpg', 'b_1.jpg').\n",
    "from sklearn.metrics import classification_report, confusion_matrix\n",
    "import seaborn as sns\n",
    "\n",
    "if not os.path.exists(TEST_DIR):\n",
    "    print(f\"\\nWarning: Test directory not found at '{TEST_DIR}'. Skipping evaluation.\")\n",
    "else:\n",
    "    print(\"\\n--- Evaluating on Test Set ---\")\n",
    "    correct_predictions = 0\n",
    "    total_test_images = 0\n",
    "    \n",
    "    # Map class names to integer indices for comparison\n",
    "    class_indices = {name: i for i, name in enumerate(class_names)}\n",
    "\n",
    "    test_image_files = [f for f in os.listdir(TEST_DIR) if f.lower().endswith(('.png', '.jpg', '.jpeg'))]\n",
    "\n",
    "    for image_file in test_image_files:\n",
    "        # The true label is assumed to be the first part of the filename\n",
    "        # e.g., 'a_1.jpg' -> 'a', 'del_10.jpg' -> 'del'\n",
    "        true_label_str = os.path.basename(image_file).split('_')[0].lower()\n",
    "        \n",
    "        # Some datasets use 'nothing' while others might use 'nothing'. Handle this.\n",
    "        if true_label_str == \"nothing\":\n",
    "            true_label_str = \"nothing\" # Standardize\n",
    "        elif true_label_str == \"del\":\n",
    "             true_label_str = \"del\" # Standardize\n",
    "        elif true_label_str == \"space\":\n",
    "             true_label_str = \"space\" # Standardize\n",
    "        \n",
    "        if true_label_str not in class_indices:\n",
    "            print(f\"Warning: Skipping image '{image_file}' with unknown label '{true_label_str}'\")\n",
    "            continue\n",
    "\n",
    "        true_label = class_indices[true_label_str]\n",
    "        total_test_images += 1\n",
    "\n",
    "        # Load and preprocess the image\n",
    "        img_path = os.path.join(TEST_DIR, image_file)\n",
    "        img = tf.keras.utils.load_img(img_path, target_size=IMG_SIZE)\n",
    "        img_array = tf.keras.utils.img_to_array(img)\n",
    "        img_array = tf.expand_dims(img_array, 0) # Create a batch\n",
    "\n",
    "        # Make a prediction\n",
    "        predictions = model.predict(img_array, verbose=0)\n",
    "        predicted_class_index = np.argmax(predictions[0])\n",
    "        \n",
    "        if predicted_class_index == true_label:\n",
    "            correct_predictions += 1\n",
    "\n",
    "    if total_test_images > 0:\n",
    "        test_accuracy = (correct_predictions / total_test_images) * 100\n",
    "        print(f\"Test Accuracy: {test_accuracy:.2f}%\")\n",
    "        print(f\"Correctly predicted {correct_predictions} out of {total_test_images} test images.\")\n",
    "\n",
    "         # 1. Classification Report\n",
    "        print(\"\\n--- Classification Report ---\")\n",
    "        # Use target_names to map integer labels back to string names\n",
    "        print(classification_report(y_true, y_pred, target_names=class_names))\n",
    "\n",
    "        # 2. Confusion Matrix Heatmap\n",
    "        print(\"\\n--- Generating Confusion Matrix Heatmap ---\")\n",
    "        cm = confusion_matrix(y_true, y_pred)\n",
    "        plt.figure(figsize=(18, 15))\n",
    "        sns.heatmap(cm, annot=True, fmt='d', cmap='Blues', \n",
    "                    xticklabels=class_names, yticklabels=class_names)\n",
    "        plt.title('Confusion Matrix', fontsize=20)\n",
    "        plt.ylabel('Actual Label', fontsize=15)\n",
    "        plt.xlabel('Predicted Label', fontsize=15)\n",
    "        plt.show()\n",
    "        \n",
    "    else:\n",
    "        print(\"No valid test images found to evaluate.\")\n"
   ]
  },
  {
   "cell_type": "code",
   "execution_count": null,
   "id": "18abbe3c-0e1a-404d-9d59-1ad6ceb6f394",
   "metadata": {},
   "outputs": [],
   "source": []
  },
  {
   "cell_type": "markdown",
   "id": "f76966e5-6e5e-40e0-bcee-d18034ec7828",
   "metadata": {},
   "source": [
    "# --- 6. Predict on a Specific Image ---\n",
    "\n",
    "# --- EDIT THIS LINE to the path of the image you want to predict ---\n",
    "image_to_predict = 'a_2.jpeg' # Example path\n",
    "\n",
    "# Check if the specified image file exists\n",
    "if not os.path.exists(image_to_predict):\n",
    "    print(f\"\\nError: The image file was not found at '{image_to_predict}'\")\n",
    "    print(\"Please update the 'image_to_predict' variable with the correct path.\")\n",
    "else:\n",
    "    print(f\"\\n--- Predicting on Specific Image: {os.path.basename(image_to_predict)} ---\")\n",
    "\n",
    "    # Load and preprocess the image\n",
    "    img = tf.keras.utils.load_img(image_to_predict, target_size=IMG_SIZE)\n",
    "    img_array = tf.keras.utils.img_to_array(img)\n",
    "    img_array = tf.expand_dims(img_array, 0) # Create a batch\n",
    "\n",
    "    # Make a prediction\n",
    "    predictions = model.predict(img_array)\n",
    "    predicted_index = np.argmax(predictions[0])\n",
    "    predicted_class = class_names[predicted_index]\n",
    "    confidence = 100 * np.max(predictions[0])\n",
    "\n",
    "    print(f\"Predicted Sign: {predicted_class}\")\n",
    "    print(f\"Confidence: {confidence:.2f}%\")\n",
    "\n",
    "    # Display the image with the prediction\n",
    "    plt.figure()\n",
    "    plt.imshow(img)\n",
    "    plt.title(f\"Prediction: {predicted_class} ({confidence:.2f}%)\")\n",
    "    plt.axis('off')\n",
    "    plt.show()"
   ]
  },
  {
   "cell_type": "code",
   "execution_count": 14,
   "id": "6f333b61-6b99-441f-be98-067f930d3941",
   "metadata": {},
   "outputs": [
    {
     "name": "stdout",
     "output_type": "stream",
     "text": [
      "\n",
      "--- Starting Webcam for Real-time Detection ---\n",
      "Place your hand inside the green box.\n",
      "Press 'q' to quit the webcam window.\n",
      "--- Webcam feed closed ---\n"
     ]
    }
   ],
   "source": [
    "# --- 6. Real-time Webcam Hand Sign Detection ---\n",
    "import cv2\n",
    "\n",
    "print(\"\\n--- Starting Webcam for Real-time Detection ---\")\n",
    "print(\"Place your hand inside the green box.\")\n",
    "print(\"Press 'q' to quit the webcam window.\")\n",
    "\n",
    "cap = cv2.VideoCapture(0)\n",
    "\n",
    "if not cap.isOpened():\n",
    "    print(\"Error: Could not open webcam.\")\n",
    "    exit()\n",
    "\n",
    "# --- NEW: Define the Region of Interest (ROI) box ---\n",
    "# Box dimensions (300x300 pixels)\n",
    "box_size = 300\n",
    "# Get frame dimensions to calculate the box position\n",
    "ret, frame = cap.read()\n",
    "if not ret:\n",
    "    print(\"Error: Can't read initial frame.\")\n",
    "    exit()\n",
    "height, width, _ = frame.shape\n",
    "\n",
    "# Top-left corner of the box\n",
    "x1 = int((width - box_size) / 2)\n",
    "y1 = int((height - box_size) / 2)\n",
    "# Bottom-right corner of the box\n",
    "x2 = x1 + box_size\n",
    "y2 = y1 + box_size\n",
    "\n",
    "\n",
    "while True:\n",
    "    ret, frame = cap.read()\n",
    "    if not ret:\n",
    "        print(\"Error: Can't receive frame. Exiting ...\")\n",
    "        break\n",
    "\n",
    "    frame = cv2.flip(frame, 1)\n",
    "\n",
    "    # --- NEW: Extract the ROI ---\n",
    "    # Create the ROI from the original frame based on the calculated coordinates\n",
    "    roi = frame[y1:y2, x1:x2]\n",
    "\n",
    "    # --- Preprocess the ROI for the model ---\n",
    "    # The model expects an RGB image\n",
    "    rgb_roi = cv2.cvtColor(roi, cv2.COLOR_BGR2RGB)\n",
    "    \n",
    "    # Resize the ROI to the model's expected input size\n",
    "    resized_roi = cv2.resize(rgb_roi, IMG_SIZE)\n",
    "    \n",
    "    # Convert to a NumPy array and add a batch dimension\n",
    "    img_array = tf.keras.utils.img_to_array(resized_roi)\n",
    "    img_array = tf.expand_dims(img_array, 0)\n",
    "\n",
    "    # --- Make a prediction on the ROI ---\n",
    "    predictions = model.predict(img_array, verbose=0)\n",
    "    predicted_index = np.argmax(predictions[0])\n",
    "    predicted_class = class_names[predicted_index]\n",
    "    confidence = 100 * np.max(predictions[0])\n",
    "\n",
    "    # --- Display the prediction and the ROI box on the original frame ---\n",
    "    display_text = f\"Prediction: {predicted_class} ({confidence:.1f}%)\"\n",
    "    cv2.putText(frame, display_text, (10, 30), cv2.FONT_HERSHEY_SIMPLEX, 1, (0, 255, 0), 2, cv2.LINE_AA)\n",
    "    \n",
    "    # --- NEW: Draw the ROI box on the frame ---\n",
    "    cv2.rectangle(frame, (x1, y1), (x2, y2), (0, 255, 0), 2) # Green box with thickness 2\n",
    "\n",
    "    # Display the resulting frame\n",
    "    cv2.imshow('ASL Hand Sign Detection (Press Q to Quit)', frame)\n",
    "\n",
    "    if cv2.waitKey(1) & 0xFF == ord('q'):\n",
    "        break\n",
    "\n",
    "cap.release()\n",
    "cv2.destroyAllWindows()\n",
    "print(\"--- Webcam feed closed ---\")"
   ]
  }
 ],
 "metadata": {
  "kernelspec": {
   "display_name": "Python 3 (ipykernel)",
   "language": "python",
   "name": "python3"
  },
  "language_info": {
   "codemirror_mode": {
    "name": "ipython",
    "version": 3
   },
   "file_extension": ".py",
   "mimetype": "text/x-python",
   "name": "python",
   "nbconvert_exporter": "python",
   "pygments_lexer": "ipython3",
   "version": "3.13.6"
  }
 },
 "nbformat": 4,
 "nbformat_minor": 5
}
